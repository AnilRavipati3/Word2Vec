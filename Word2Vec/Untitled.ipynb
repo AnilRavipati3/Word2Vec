{
 "cells": [
  {
   "cell_type": "code",
   "execution_count": 38,
   "metadata": {},
   "outputs": [],
   "source": [
    "import nltk"
   ]
  },
  {
   "cell_type": "code",
   "execution_count": 39,
   "metadata": {},
   "outputs": [],
   "source": [
    "from gensim.models import Word2Vec\n",
    "from nltk.corpus import stopwords\n",
    "\n",
    "import re"
   ]
  },
  {
   "cell_type": "code",
   "execution_count": 40,
   "metadata": {},
   "outputs": [],
   "source": [
    "paragraph = \"\"\"I have three visions for India. In 3000 years of our history, people from all over \n",
    "               the world have come and invaded us, captured our lands, conquered our minds. \n",
    "               From Alexander onwards, the Greeks, the Turks, the Moguls, the Portuguese, the British,\n",
    "               the French, the Dutch, all of them came and looted us, took over what was ours. \n",
    "               Yet we have not done this to any other nation. We have not conquered anyone. \n",
    "               We have not grabbed their land, their culture, \n",
    "               their history and tried to enforce our way of life on them. \n",
    "               Why? Because we respect the freedom of others.That is why my \n",
    "               first vision is that of freedom. I believe that India got its first vision of \n",
    "               this in 1857, when we started the War of Independence. It is this freedom that\n",
    "               we must protect and nurture and build on. If we are not free, no one will respect us.\n",
    "               My second vision for India’s development. For fifty years we have been a developing nation.\n",
    "               It is time we see ourselves as a developed nation. We are among the top 5 nations of the world\n",
    "               in terms of GDP. We have a 10 percent growth rate in most areas. Our poverty levels are falling.\n",
    "               Our achievements are being globally recognised today. Yet we lack the self-confidence to\n",
    "               see ourselves as a developed nation, self-reliant and self-assured. Isn’t this incorrect?\n",
    "               I have a third vision. India must stand up to the world. Because I believe that unless India \n",
    "               stands up to the world, no one will respect us. Only strength respects strength. We must be \n",
    "               strong not only as a military power but also as an economic power. Both must go hand-in-hand. \n",
    "               My good fortune was to have worked with three great minds. Dr. Vikram Sarabhai of the Dept. of \n",
    "               space, Professor Satish Dhawan, who succeeded him and Dr. Brahm Prakash, father of nuclear material.\n",
    "               I was lucky to have worked with all three of them closely and consider this the great opportunity of my life. \n",
    "               I see four milestones in my career\"\"\"\n"
   ]
  },
  {
   "cell_type": "code",
   "execution_count": 41,
   "metadata": {},
   "outputs": [],
   "source": [
    "# Preprocessing the data\n",
    "text = re.sub(r'\\[[0-9]*\\]',' ',paragraph)\n",
    "text = re.sub(r'\\s+',' ',text)\n",
    "text = text.lower()\n",
    "text = re.sub(r'\\d',' ',text)\n",
    "text = re.sub(r'\\s+',' ',text)\n"
   ]
  },
  {
   "cell_type": "code",
   "execution_count": 42,
   "metadata": {},
   "outputs": [],
   "source": [
    "# Preparing the dataset\n",
    "sentences = nltk.sent_tokenize(text)\n",
    "\n",
    "sentences = [nltk.word_tokenize(sentence) for sentence in sentences]\n",
    "\n",
    "for i in range(len(sentences)):\n",
    "    sentences[i] = [word for word in sentences[i] if word not in stopwords.words('english')]\n",
    "    "
   ]
  },
  {
   "cell_type": "code",
   "execution_count": 43,
   "metadata": {},
   "outputs": [],
   "source": [
    "# Training the Word2Vec model\n",
    "model = Word2Vec(sentences, min_count=1)"
   ]
  },
  {
   "cell_type": "code",
   "execution_count": 44,
   "metadata": {},
   "outputs": [],
   "source": [
    "words = model.wv.vocab"
   ]
  },
  {
   "cell_type": "code",
   "execution_count": 45,
   "metadata": {},
   "outputs": [
    {
     "data": {
      "text/plain": [
       "{'three': <gensim.models.keyedvectors.Vocab at 0x2da0fed3ac8>,\n",
       " 'visions': <gensim.models.keyedvectors.Vocab at 0x2da10372388>,\n",
       " 'india': <gensim.models.keyedvectors.Vocab at 0x2da103729c8>,\n",
       " '.': <gensim.models.keyedvectors.Vocab at 0x2da10372e88>,\n",
       " 'years': <gensim.models.keyedvectors.Vocab at 0x2da10372d08>,\n",
       " 'history': <gensim.models.keyedvectors.Vocab at 0x2da10372148>,\n",
       " ',': <gensim.models.keyedvectors.Vocab at 0x2da10372ac8>,\n",
       " 'people': <gensim.models.keyedvectors.Vocab at 0x2da10372308>,\n",
       " 'world': <gensim.models.keyedvectors.Vocab at 0x2da10372288>,\n",
       " 'come': <gensim.models.keyedvectors.Vocab at 0x2da103720c8>,\n",
       " 'invaded': <gensim.models.keyedvectors.Vocab at 0x2da103723c8>,\n",
       " 'us': <gensim.models.keyedvectors.Vocab at 0x2da10372108>,\n",
       " 'captured': <gensim.models.keyedvectors.Vocab at 0x2da10372248>,\n",
       " 'lands': <gensim.models.keyedvectors.Vocab at 0x2da10372848>,\n",
       " 'conquered': <gensim.models.keyedvectors.Vocab at 0x2da10372c88>,\n",
       " 'minds': <gensim.models.keyedvectors.Vocab at 0x2da10372f48>,\n",
       " 'alexander': <gensim.models.keyedvectors.Vocab at 0x2da10372cc8>,\n",
       " 'onwards': <gensim.models.keyedvectors.Vocab at 0x2da103724c8>,\n",
       " 'greeks': <gensim.models.keyedvectors.Vocab at 0x2da10372e48>,\n",
       " 'turks': <gensim.models.keyedvectors.Vocab at 0x2da10372988>,\n",
       " 'moguls': <gensim.models.keyedvectors.Vocab at 0x2da10372c08>,\n",
       " 'portuguese': <gensim.models.keyedvectors.Vocab at 0x2da10372b48>,\n",
       " 'british': <gensim.models.keyedvectors.Vocab at 0x2da10372888>,\n",
       " 'french': <gensim.models.keyedvectors.Vocab at 0x2da10372648>,\n",
       " 'dutch': <gensim.models.keyedvectors.Vocab at 0x2da10372688>,\n",
       " 'came': <gensim.models.keyedvectors.Vocab at 0x2da10372708>,\n",
       " 'looted': <gensim.models.keyedvectors.Vocab at 0x2da10372508>,\n",
       " 'took': <gensim.models.keyedvectors.Vocab at 0x2da10372588>,\n",
       " 'yet': <gensim.models.keyedvectors.Vocab at 0x2da10372788>,\n",
       " 'done': <gensim.models.keyedvectors.Vocab at 0x2da10372fc8>,\n",
       " 'nation': <gensim.models.keyedvectors.Vocab at 0x2da100f5748>,\n",
       " 'anyone': <gensim.models.keyedvectors.Vocab at 0x2da100f5288>,\n",
       " 'grabbed': <gensim.models.keyedvectors.Vocab at 0x2da100f5148>,\n",
       " 'land': <gensim.models.keyedvectors.Vocab at 0x2da100f5a48>,\n",
       " 'culture': <gensim.models.keyedvectors.Vocab at 0x2da100f5e48>,\n",
       " 'tried': <gensim.models.keyedvectors.Vocab at 0x2da100f5248>,\n",
       " 'enforce': <gensim.models.keyedvectors.Vocab at 0x2da100f52c8>,\n",
       " 'way': <gensim.models.keyedvectors.Vocab at 0x2da100f56c8>,\n",
       " 'life': <gensim.models.keyedvectors.Vocab at 0x2da100f5188>,\n",
       " '?': <gensim.models.keyedvectors.Vocab at 0x2da100f5108>,\n",
       " 'respect': <gensim.models.keyedvectors.Vocab at 0x2da100f5488>,\n",
       " 'freedom': <gensim.models.keyedvectors.Vocab at 0x2da100f5848>,\n",
       " 'others.that': <gensim.models.keyedvectors.Vocab at 0x2da100f5ec8>,\n",
       " 'first': <gensim.models.keyedvectors.Vocab at 0x2da100f5bc8>,\n",
       " 'vision': <gensim.models.keyedvectors.Vocab at 0x2da100f5c08>,\n",
       " 'believe': <gensim.models.keyedvectors.Vocab at 0x2da100f57c8>,\n",
       " 'got': <gensim.models.keyedvectors.Vocab at 0x2da100f5808>,\n",
       " 'started': <gensim.models.keyedvectors.Vocab at 0x2da100f5b48>,\n",
       " 'war': <gensim.models.keyedvectors.Vocab at 0x2da100f5d08>,\n",
       " 'independence': <gensim.models.keyedvectors.Vocab at 0x2da100f5fc8>,\n",
       " 'must': <gensim.models.keyedvectors.Vocab at 0x2da100f5388>,\n",
       " 'protect': <gensim.models.keyedvectors.Vocab at 0x2da100f58c8>,\n",
       " 'nurture': <gensim.models.keyedvectors.Vocab at 0x2da100f59c8>,\n",
       " 'build': <gensim.models.keyedvectors.Vocab at 0x2da100f5c88>,\n",
       " 'free': <gensim.models.keyedvectors.Vocab at 0x2da100f5908>,\n",
       " 'one': <gensim.models.keyedvectors.Vocab at 0x2da100f5ac8>,\n",
       " 'second': <gensim.models.keyedvectors.Vocab at 0x2da100f55c8>,\n",
       " '’': <gensim.models.keyedvectors.Vocab at 0x2da100f5648>,\n",
       " 'development': <gensim.models.keyedvectors.Vocab at 0x2da100f5548>,\n",
       " 'fifty': <gensim.models.keyedvectors.Vocab at 0x2da100f5608>,\n",
       " 'developing': <gensim.models.keyedvectors.Vocab at 0x2da100f5088>,\n",
       " 'time': <gensim.models.keyedvectors.Vocab at 0x2da100f5588>,\n",
       " 'see': <gensim.models.keyedvectors.Vocab at 0x2da1011c048>,\n",
       " 'developed': <gensim.models.keyedvectors.Vocab at 0x2da1011c1c8>,\n",
       " 'among': <gensim.models.keyedvectors.Vocab at 0x2da1011c088>,\n",
       " 'top': <gensim.models.keyedvectors.Vocab at 0x2da1011c248>,\n",
       " 'nations': <gensim.models.keyedvectors.Vocab at 0x2da1011c348>,\n",
       " 'terms': <gensim.models.keyedvectors.Vocab at 0x2da1011c208>,\n",
       " 'gdp': <gensim.models.keyedvectors.Vocab at 0x2da1011c608>,\n",
       " 'percent': <gensim.models.keyedvectors.Vocab at 0x2da1011c948>,\n",
       " 'growth': <gensim.models.keyedvectors.Vocab at 0x2da1011c308>,\n",
       " 'rate': <gensim.models.keyedvectors.Vocab at 0x2da1011c148>,\n",
       " 'areas': <gensim.models.keyedvectors.Vocab at 0x2da1011c8c8>,\n",
       " 'poverty': <gensim.models.keyedvectors.Vocab at 0x2da1011c0c8>,\n",
       " 'levels': <gensim.models.keyedvectors.Vocab at 0x2da1011c748>,\n",
       " 'falling': <gensim.models.keyedvectors.Vocab at 0x2da1011ca48>,\n",
       " 'achievements': <gensim.models.keyedvectors.Vocab at 0x2da1011cf08>,\n",
       " 'globally': <gensim.models.keyedvectors.Vocab at 0x2da1011cfc8>,\n",
       " 'recognised': <gensim.models.keyedvectors.Vocab at 0x2da1011ce88>,\n",
       " 'today': <gensim.models.keyedvectors.Vocab at 0x2da1011cf48>,\n",
       " 'lack': <gensim.models.keyedvectors.Vocab at 0x2da1011ccc8>,\n",
       " 'self-confidence': <gensim.models.keyedvectors.Vocab at 0x2da1011c988>,\n",
       " 'self-reliant': <gensim.models.keyedvectors.Vocab at 0x2da1011cd48>,\n",
       " 'self-assured': <gensim.models.keyedvectors.Vocab at 0x2da1011cb48>,\n",
       " 'incorrect': <gensim.models.keyedvectors.Vocab at 0x2da1011cac8>,\n",
       " 'third': <gensim.models.keyedvectors.Vocab at 0x2da1011cc48>,\n",
       " 'stand': <gensim.models.keyedvectors.Vocab at 0x2da1011cdc8>,\n",
       " 'unless': <gensim.models.keyedvectors.Vocab at 0x2da1011ce08>,\n",
       " 'stands': <gensim.models.keyedvectors.Vocab at 0x2da1011c488>,\n",
       " 'strength': <gensim.models.keyedvectors.Vocab at 0x2da1011cbc8>,\n",
       " 'respects': <gensim.models.keyedvectors.Vocab at 0x2da1011c788>,\n",
       " 'strong': <gensim.models.keyedvectors.Vocab at 0x2da1011c548>,\n",
       " 'military': <gensim.models.keyedvectors.Vocab at 0x2da1011c648>,\n",
       " 'power': <gensim.models.keyedvectors.Vocab at 0x2da1011ca08>,\n",
       " 'also': <gensim.models.keyedvectors.Vocab at 0x2da1011c508>,\n",
       " 'economic': <gensim.models.keyedvectors.Vocab at 0x2da1011c5c8>,\n",
       " 'go': <gensim.models.keyedvectors.Vocab at 0x2da1011c688>,\n",
       " 'hand-in-hand': <gensim.models.keyedvectors.Vocab at 0x2da1011c408>,\n",
       " 'good': <gensim.models.keyedvectors.Vocab at 0x2da1011c2c8>,\n",
       " 'fortune': <gensim.models.keyedvectors.Vocab at 0x2da10373c08>,\n",
       " 'worked': <gensim.models.keyedvectors.Vocab at 0x2da10373d48>,\n",
       " 'great': <gensim.models.keyedvectors.Vocab at 0x2da10373bc8>,\n",
       " 'dr.': <gensim.models.keyedvectors.Vocab at 0x2da10373cc8>,\n",
       " 'vikram': <gensim.models.keyedvectors.Vocab at 0x2da10373e08>,\n",
       " 'sarabhai': <gensim.models.keyedvectors.Vocab at 0x2da10373e88>,\n",
       " 'dept': <gensim.models.keyedvectors.Vocab at 0x2da10373ec8>,\n",
       " 'space': <gensim.models.keyedvectors.Vocab at 0x2da10373c88>,\n",
       " 'professor': <gensim.models.keyedvectors.Vocab at 0x2da10373d88>,\n",
       " 'satish': <gensim.models.keyedvectors.Vocab at 0x2da10373f88>,\n",
       " 'dhawan': <gensim.models.keyedvectors.Vocab at 0x2da10373fc8>,\n",
       " 'succeeded': <gensim.models.keyedvectors.Vocab at 0x2da103732c8>,\n",
       " 'brahm': <gensim.models.keyedvectors.Vocab at 0x2da103731c8>,\n",
       " 'prakash': <gensim.models.keyedvectors.Vocab at 0x2da10373308>,\n",
       " 'father': <gensim.models.keyedvectors.Vocab at 0x2da10373908>,\n",
       " 'nuclear': <gensim.models.keyedvectors.Vocab at 0x2da10373a48>,\n",
       " 'material': <gensim.models.keyedvectors.Vocab at 0x2da103733c8>,\n",
       " 'lucky': <gensim.models.keyedvectors.Vocab at 0x2da10373548>,\n",
       " 'closely': <gensim.models.keyedvectors.Vocab at 0x2da103730c8>,\n",
       " 'consider': <gensim.models.keyedvectors.Vocab at 0x2da103736c8>,\n",
       " 'opportunity': <gensim.models.keyedvectors.Vocab at 0x2da10373248>,\n",
       " 'four': <gensim.models.keyedvectors.Vocab at 0x2da103735c8>,\n",
       " 'milestones': <gensim.models.keyedvectors.Vocab at 0x2da10373348>,\n",
       " 'career': <gensim.models.keyedvectors.Vocab at 0x2da103737c8>}"
      ]
     },
     "execution_count": 45,
     "metadata": {},
     "output_type": "execute_result"
    }
   ],
   "source": [
    "words"
   ]
  },
  {
   "cell_type": "code",
   "execution_count": 46,
   "metadata": {},
   "outputs": [],
   "source": [
    "# Finding Word Vectors\n",
    "vector = model.wv['war']"
   ]
  },
  {
   "cell_type": "code",
   "execution_count": 47,
   "metadata": {},
   "outputs": [
    {
     "data": {
      "text/plain": [
       "array([ 1.4593593e-05,  4.1966693e-04,  3.4916995e-03, -4.1054389e-03,\n",
       "       -3.4319828e-03, -2.5419390e-03, -4.5538624e-03,  2.7045754e-03,\n",
       "       -4.8919003e-03,  3.6671809e-03,  8.1252953e-04, -2.0260282e-04,\n",
       "        4.8920158e-03,  2.5970582e-03,  1.7516011e-03,  4.5420961e-03,\n",
       "        3.1241123e-03, -3.8989321e-03,  1.7438236e-03,  2.8969783e-03,\n",
       "        3.4654646e-03, -4.9663181e-03,  2.6124085e-03,  1.6020822e-03,\n",
       "       -3.9264639e-03,  3.0087985e-03, -3.3760266e-03,  3.7242060e-03,\n",
       "       -3.4508621e-03,  4.3472792e-03, -3.3566142e-03,  4.5996089e-03,\n",
       "       -6.5422186e-04,  2.0765655e-03,  4.6535190e-03,  6.4889668e-04,\n",
       "        6.6913641e-04, -3.9453511e-03, -4.3084486e-03, -3.7456302e-03,\n",
       "       -3.2113872e-03, -2.3773063e-03,  3.2980673e-03,  4.9682339e-03,\n",
       "        4.2161252e-03, -2.1645299e-03,  5.5878987e-05,  3.2641473e-03,\n",
       "        3.8099186e-03, -4.7509391e-03,  5.7515758e-04, -4.8276954e-03,\n",
       "        1.3564463e-03,  2.5695274e-03,  3.7071207e-03, -1.7628795e-03,\n",
       "       -5.8166095e-04,  1.2188263e-03,  2.4558550e-03, -4.8765978e-03,\n",
       "        4.7501223e-03, -2.8248802e-03,  3.1267735e-03, -4.2031455e-04,\n",
       "       -1.6892906e-03,  1.6036199e-03, -7.4380735e-04,  3.6016155e-03,\n",
       "       -1.5442161e-03, -3.9278013e-03,  2.1763742e-03,  3.2292033e-04,\n",
       "       -4.6385312e-03,  3.5520766e-03, -4.2904727e-03,  2.0583931e-03,\n",
       "       -9.0084871e-04, -2.4369529e-03, -3.7524765e-03, -2.5341199e-03,\n",
       "        1.1293816e-03,  1.9950457e-03,  4.6284613e-03, -1.5766481e-04,\n",
       "       -2.2494441e-03, -1.2242709e-03, -3.9147763e-03, -3.7412001e-03,\n",
       "       -2.1704852e-03,  2.3029454e-03,  3.0357945e-03,  4.3564453e-03,\n",
       "        1.1528736e-04, -8.4269652e-04,  2.8148524e-03, -3.3877960e-03,\n",
       "        2.3533478e-03,  3.3033467e-03,  4.3423166e-03, -4.3768680e-04],\n",
       "      dtype=float32)"
      ]
     },
     "execution_count": 47,
     "metadata": {},
     "output_type": "execute_result"
    }
   ],
   "source": [
    "vector"
   ]
  },
  {
   "cell_type": "code",
   "execution_count": 48,
   "metadata": {},
   "outputs": [],
   "source": [
    "# Most similar words\n",
    "similar = model.wv.most_similar(\"freedom\")"
   ]
  },
  {
   "cell_type": "code",
   "execution_count": 49,
   "metadata": {},
   "outputs": [
    {
     "data": {
      "text/plain": [
       "[('done', 0.2966310381889343),\n",
       " ('self-reliant', 0.2686949670314789),\n",
       " ('one', 0.2633085250854492),\n",
       " ('looted', 0.2173922210931778),\n",
       " ('self-assured', 0.1763567328453064),\n",
       " ('top', 0.1756325513124466),\n",
       " ('time', 0.1691049337387085),\n",
       " ('good', 0.15295548737049103),\n",
       " ('today', 0.150602325797081),\n",
       " ('took', 0.14949281513690948)]"
      ]
     },
     "execution_count": 49,
     "metadata": {},
     "output_type": "execute_result"
    }
   ],
   "source": [
    "similar"
   ]
  },
  {
   "cell_type": "code",
   "execution_count": null,
   "metadata": {},
   "outputs": [],
   "source": []
  },
  {
   "cell_type": "code",
   "execution_count": null,
   "metadata": {},
   "outputs": [],
   "source": []
  }
 ],
 "metadata": {
  "kernelspec": {
   "display_name": "Python 3",
   "language": "python",
   "name": "python3"
  },
  "language_info": {
   "codemirror_mode": {
    "name": "ipython",
    "version": 3
   },
   "file_extension": ".py",
   "mimetype": "text/x-python",
   "name": "python",
   "nbconvert_exporter": "python",
   "pygments_lexer": "ipython3",
   "version": "3.7.4"
  }
 },
 "nbformat": 4,
 "nbformat_minor": 2
}
